{
 "cells": [
  {
   "cell_type": "markdown",
   "metadata": {
    "slideshow": {
     "slide_type": "slide"
    }
   },
   "source": [
    "# CAMB non-linear matter power spectrum exploration (_Halofit_-$\\nu$)"
   ]
  },
  {
   "cell_type": "code",
   "execution_count": 8,
   "metadata": {
    "collapsed": true,
    "slideshow": {
     "slide_type": "skip"
    }
   },
   "outputs": [],
   "source": [
    "import numpy as np\n",
    "%matplotlib inline\n",
    "from matplotlib import pyplot as plt\n",
    "\n",
    "import camb\n",
    "from camb import model, initialpower\n",
    "\n",
    "from ChangTools.plotting import prettyplot\n",
    "from ChangTools.plotting import prettycolors"
   ]
  },
  {
   "cell_type": "code",
   "execution_count": 11,
   "metadata": {
    "collapsed": false
   },
   "outputs": [
    {
     "name": "stdout",
     "output_type": "stream",
     "text": [
      "WantCls = 1\n",
      "WantTransfer = 0\n",
      "WantScalars = 1\n",
      "WantTensors = 0\n",
      "WantVectors = 0\n",
      "DoLensing = 1\n",
      "want_zstar = 0\n",
      "want_zdrag = 0\n",
      "PK_WantTransfer = 0\n",
      "NonLinear = 0\n",
      "Want_CMB = 1\n",
      "max_l = 2500\n",
      "max_l_tensor = 600\n",
      "max_eta_k = 5000.0\n",
      "max_eta_k_tensor = 1200.0\n",
      "omegab = 0.0450000017881\n",
      "omegac = 0.254999995232\n",
      "omegav = 0.699999988079\n",
      "omegan = 0.0\n",
      "H0 = 65.0\n",
      "TCMB = 2.7255\n",
      "YHe = 0.239999994636\n",
      "num_nu_massless = 3.046\n",
      "num_nu_massive = 0\n",
      "nu_mass_eigenstates = 0\n",
      "share_delta_neff = 0\n",
      "nu_mass_degeneracies = [0.0, 0.0, 0.0, 0.0, 0.0]\n",
      "nu_mass_fractions = [0.0, 0.0, 0.0, 0.0, 0.0]\n",
      "nu_mass_numbers = [0, 0, 0, 0, 0]\n",
      "scalar_initial_condition = 1\n",
      "OutputNormalization = 1\n",
      "AccuratePolarization = 1\n",
      "AccurateBB = 0\n",
      "AccurateReionization = 0\n",
      "MassiveNuMethod = 3\n",
      "InitPower:\n",
      "  tensor_parameterization = 1\n",
      "  nn = 1\n",
      "  an = [1.0, 1.0, 1.0, 1.0, 1.0]\n",
      "  n_run = [0.0, 0.0, 0.0, 0.0, 0.0]\n",
      "  n_runrun = [0.0, 0.0, 0.0, 0.0, 0.0]\n",
      "  ant = [0.0, 0.0, 0.0, 0.0, 0.0]\n",
      "  nt_run = [0.0, 0.0, 0.0, 0.0, 0.0]\n",
      "  rat = [1.0, 1.0, 1.0, 1.0, 1.0]\n",
      "  k_0_scalar = 0.0500000007451\n",
      "  k_0_tensor = 0.0500000007451\n",
      "  ScalarPowerAmp = [1.0, 1.0, 1.0, 1.0, 1.0]\n",
      "  TensorPowerAmp = [1.0, 1.0, 1.0, 1.0, 1.0]\n",
      "Reion:\n",
      "  Reionization = 1\n",
      "  use_optical_depth = 0\n",
      "  redshift = 10.0\n",
      "  delta_redshift = 0.5\n",
      "  fraction = -1.0\n",
      "  optical_depth = 0.0\n",
      "  helium_redshift = 3.5\n",
      "  helium_delta_redshift = 0.5\n",
      "  helium_redshiftstart = 5.0\n",
      "Recomb:\n",
      "  RECFAST_fudge = 1.125\n",
      "  RECFAST_fudge_He = 0.86\n",
      "  RECFAST_Heswitch = 6\n",
      "  RECFAST_Hswitch = 1\n",
      "Transfer:\n",
      "  high_precision = 0\n",
      "  num_redshifts = 1\n",
      "  kmax = 0.899999976158\n",
      "  k_per_logint = 0\n",
      "  redshifts = [0.0, 0.0, 0.0, 0.0, 0.0, 0.0, 0.0]\n",
      "  PK_redshifts = [0.0, 0.0, 0.0, 0.0, 0.0, 0.0, 0.0]\n",
      "  NLL_redshifts = [0.0, 0.0, 0.0, 0.0, 0.0, 0.0, 0.0]\n",
      "  PK_redshifts_index = [0, 0, 0, 0, 0, 0, 0]\n",
      "  NLL_redshifts_index = [0, 0, 0, 0, 0, 0, 0]\n",
      "  PK_num_redshifts = 1\n",
      "  NLL_num_redshifts = 0\n",
      "InitialConditionVector = [0.0, 0.0, 0.0, 0.0, 0.0, 0.0, 0.0]\n",
      "OnlyTransfers = 0\n",
      "DerivedParameters = 1\n",
      "ReionHist:\n",
      "  tau_start = 0.0\n",
      "  tau_complete = 0.0\n",
      "  akthom = 0.0\n",
      "  fHe = 0.0\n",
      "  WindowVarMid = 0.0\n",
      "  WindowVarDelta = 0.0\n",
      "flat = 0\n",
      "closed = 0\n",
      "open = 0\n",
      "omegak = 0.0\n",
      "curv = 0.0\n",
      "r = 0.0\n",
      "Ksign = 0.0\n",
      "tau0 = 0.0\n",
      "chi0 = 0.0\n",
      "\n"
     ]
    },
    {
     "data": {
      "text/plain": [
       "[<matplotlib.lines.Line2D at 0x11417c190>]"
      ]
     },
     "execution_count": 11,
     "metadata": {},
     "output_type": "execute_result"
    },
    {
     "data": {
      "image/png": "[encoded data removed]",
      "text/plain": [
       "<matplotlib.figure.Figure at 0x114007650>"
      ]
     },
     "metadata": {},
     "output_type": "display_data"
    }
   ],
   "source": [
    "#Now get matter power spectra and sigma8 at redshift 0 and 0.8\n",
    "pars = camb.CAMBparams()\n",
    "print pars\n",
    "pars.set_cosmology(H0=67.5, ombh2=0.022, omch2=0.122)\n",
    "pars.set_dark_energy() #re-set defaults\n",
    "pars.InitPower.set_params(ns=0.965)\n",
    "#Not non-linear corrections couples to smaller scales than you want\n",
    "pars.set_matter_power(redshifts=[0.53], kmax=2.0)\n",
    "\n",
    "#Non-Linear spectra (Halofit)\n",
    "pars.NonLinear = model.NonLinear_both\n",
    "results.calc_power_spectra(pars)\n",
    "kh_nonlin, z_nonlin, pk_nonlin = results.get_matter_power_spectrum(minkh=1e-3, maxkh=1, npoints = 200)\n",
    "\n",
    "prettyplot()\n",
    "pretty_colors = prettycolors()\n",
    "plt.loglog(kh_nonlin, pk_nonlin[0,:], color=pretty_colors[3])\n"
   ]
  },
  {
   "cell_type": "code",
   "execution_count": 5,
   "metadata": {
    "collapsed": false
   },
   "outputs": [
    {
     "data": {
      "image/png": "[encoded data removed]",
      "text/plain": [
       "<matplotlib.figure.Figure at 0x11193d1d0>"
      ]
     },
     "metadata": {},
     "output_type": "display_data"
    }
   ],
   "source": [
    "\n",
    "for i, (redshift, line) in enumerate(zip(z,['-','--'])):\n",
    "    plt.loglog(kh_nonlin, pk_nonlin[i,:], color='r', ls = line)\n",
    "plt.xlabel('k/h Mpc');\n",
    "plt.legend(['linear','non-linear'], loc='lower left');\n",
    "plt.title('Matter power at z=%s and z= %s'%tuple(z));"
   ]
  },
  {
   "cell_type": "code",
   "execution_count": null,
   "metadata": {
    "collapsed": true
   },
   "outputs": [],
   "source": []
  }
 ],
 "metadata": {
  "celltoolbar": "Slideshow",
  "kernelspec": {
   "display_name": "Python 2",
   "language": "python",
   "name": "python2"
  },
  "language_info": {
   "codemirror_mode": {
    "name": "ipython",
    "version": 2
   },
   "file_extension": ".py",
   "mimetype": "text/x-python",
   "name": "python",
   "nbconvert_exporter": "python",
   "pygments_lexer": "ipython2",
   "version": "2.7.9"
  }
 },
 "nbformat": 4,
 "nbformat_minor": 0
}
